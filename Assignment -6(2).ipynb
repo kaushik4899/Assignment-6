{
 "cells": [
  {
   "cell_type": "code",
   "execution_count": 4,
   "id": "a330e170",
   "metadata": {},
   "outputs": [
    {
     "name": "stdout",
     "output_type": "stream",
     "text": [
      "name of the Dog is {self.name}\n",
      "age of the dog is {self.age}\n",
      "coat color of the dog is {self.coat_color}\n",
      "height of Jack Russell Terrier is {self.hieght}\n",
      "weight of Jack Russell Terrier is {self.mass}\n",
      "overall bodylength of Jack Russell  Terrier is {self.bodylength}\n",
      "Temprament of this dog breed is Intelligent, Stubbon, Athletic, Energetic, Fearless\n",
      "name of the Dog is {self.name}\n",
      "age of the dog is {self.age}\n",
      "coat color of the dog is {self.coat_color}\n",
      "height of Bulldog is {self.hieght}\n",
      "weight of Bulldog is {self.mass}\n",
      "overall bodylength of Bulldog is {self.bodylength}\n",
      "Temprament of this dog breed is Docile, Friendly, Gregacious\n"
     ]
    }
   ],
   "source": [
    "# Create a class named ‘Dog’. It should have a constructor which accepts its name, age and coat color. You must perform the following operations:\n",
    "class Dog:\n",
    "    def __init__(self,name, age, coat_color):\n",
    "        self.name=name\n",
    "        self.age=age\n",
    "        self.coat_color=coat_color\n",
    "    def description(self):\n",
    "        print(\"name of the Dog is {self.name}\")\n",
    "        print(\"age of the dog is {self.age}\")\n",
    "        \n",
    "    def get_info(self):\n",
    "        print(\"coat color of the dog is {self.coat_color}\")\n",
    "        \n",
    "class JackRussellTerrier(Dog):\n",
    "    def __init__(self,name, age, coat_color,hieght=\"25-38 cm\",mass=\"6-8 kg\",bodylength=\"46-55cm\"):\n",
    "        super().__init__(name, age, coat_color)\n",
    "        self.hieght=hieght\n",
    "        self.mass=mass\n",
    "        self.bodylength=bodylength\n",
    "    def lifespan(self,lifeline=\"Lifespan of this dog breed is 12-16 years\"):\n",
    "        print(lifeline)\n",
    "        \n",
    "    def temprament(self):\n",
    "        temper=\"Temprament of this dog breed is Intelligent, Stubbon, Athletic, Energetic, Fearless\"\n",
    "        print(temper)\n",
    "        \n",
    "    def getappearance(self):\n",
    "        print(\"height of Jack Russell Terrier is {self.hieght}\")\n",
    "        print(\"weight of Jack Russell Terrier is {self.mass}\")\n",
    "        print(\"overall bodylength of Jack Russell  Terrier is {self.bodylength}\")\n",
    "         \n",
    "\n",
    "class Bulldog(Dog):\n",
    "    def __init__(self,name, age, coat_color,hieght=\"31-40 cm\",mass=\"23-25 kg\",bodylength=\"51-69 cm\"):\n",
    "        super().__init__(name, age, coat_color)\n",
    "        self.hieght=hieght\n",
    "        self.mass=mass\n",
    "        self.bodylength=bodylength\n",
    "        \n",
    "    def lifespan(self):\n",
    "        lifeline=\"Lifespan of this dog breed is 8-10 years\"\n",
    "        print(lifeline)\n",
    "        \n",
    "    def temprament(self):\n",
    "        temper=\"Temprament of this dog breed is Docile, Friendly, Gregacious\"\n",
    "        print(temper)\n",
    "        \n",
    "    def getappearance(self):\n",
    "        print(\"height of Bulldog is {self.hieght}\")\n",
    "        print(\"weight of Bulldog is {self.mass}\")\n",
    "        print(\"overall bodylength of Bulldog is {self.bodylength}\")\n",
    "        \n",
    "\n",
    "J=JackRussellTerrier(\"Jackson\",5,\"White\")\n",
    "J.description()\n",
    "J.get_info()\n",
    "J.getappearance()\n",
    "J.temprament()\n",
    "\n",
    "B=Bulldog(\"Heather\", 7, \"Brindle & White\")\n",
    "B.description()\n",
    "B.get_info()\n",
    "B.getappearance()\n",
    "B.temprament()"
   ]
  },
  {
   "cell_type": "code",
   "execution_count": null,
   "id": "2c630eaa",
   "metadata": {},
   "outputs": [],
   "source": []
  }
 ],
 "metadata": {
  "kernelspec": {
   "display_name": "Python 3 (ipykernel)",
   "language": "python",
   "name": "python3"
  },
  "language_info": {
   "codemirror_mode": {
    "name": "ipython",
    "version": 3
   },
   "file_extension": ".py",
   "mimetype": "text/x-python",
   "name": "python",
   "nbconvert_exporter": "python",
   "pygments_lexer": "ipython3",
   "version": "3.9.12"
  }
 },
 "nbformat": 4,
 "nbformat_minor": 5
}
